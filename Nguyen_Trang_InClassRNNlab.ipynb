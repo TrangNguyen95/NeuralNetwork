{
 "cells": [
  {
   "cell_type": "markdown",
   "metadata": {},
   "source": [
    "## IBM Stock Analysis using RNN model\n",
    "Github: https://github.com/TrangNguyen95/NeuralNetwork"
   ]
  },
  {
   "cell_type": "code",
   "execution_count": 1,
   "metadata": {
    "collapsed": true
   },
   "outputs": [],
   "source": [
    "import numpy as np\n",
    "import pandas as pd\n",
    "\n",
    "import matplotlib.pyplot as plt\n",
    "from sklearn.utils import shuffle"
   ]
  },
  {
   "cell_type": "markdown",
   "metadata": {},
   "source": [
    "### Import Data"
   ]
  },
  {
   "cell_type": "code",
   "execution_count": 2,
   "metadata": {
    "collapsed": true
   },
   "outputs": [],
   "source": [
    "dataset=pd.read_csv('IBM.csv')"
   ]
  },
  {
   "cell_type": "code",
   "execution_count": 3,
   "metadata": {},
   "outputs": [
    {
     "data": {
      "text/html": [
       "<div>\n",
       "<style>\n",
       "    .dataframe thead tr:only-child th {\n",
       "        text-align: right;\n",
       "    }\n",
       "\n",
       "    .dataframe thead th {\n",
       "        text-align: left;\n",
       "    }\n",
       "\n",
       "    .dataframe tbody tr th {\n",
       "        vertical-align: top;\n",
       "    }\n",
       "</style>\n",
       "<table border=\"1\" class=\"dataframe\">\n",
       "  <thead>\n",
       "    <tr style=\"text-align: right;\">\n",
       "      <th></th>\n",
       "      <th>Date</th>\n",
       "      <th>Open</th>\n",
       "      <th>High</th>\n",
       "      <th>Low</th>\n",
       "      <th>Close</th>\n",
       "      <th>Adj Close</th>\n",
       "      <th>Volume</th>\n",
       "    </tr>\n",
       "  </thead>\n",
       "  <tbody>\n",
       "    <tr>\n",
       "      <th>0</th>\n",
       "      <td>2012-04-30</td>\n",
       "      <td>206.710007</td>\n",
       "      <td>207.960007</td>\n",
       "      <td>206.320007</td>\n",
       "      <td>207.080002</td>\n",
       "      <td>171.139999</td>\n",
       "      <td>2773200</td>\n",
       "    </tr>\n",
       "    <tr>\n",
       "      <th>1</th>\n",
       "      <td>2012-05-01</td>\n",
       "      <td>207.179993</td>\n",
       "      <td>208.929993</td>\n",
       "      <td>206.710007</td>\n",
       "      <td>208.000000</td>\n",
       "      <td>171.900360</td>\n",
       "      <td>2715900</td>\n",
       "    </tr>\n",
       "    <tr>\n",
       "      <th>2</th>\n",
       "      <td>2012-05-02</td>\n",
       "      <td>206.970001</td>\n",
       "      <td>208.270004</td>\n",
       "      <td>206.910004</td>\n",
       "      <td>208.059998</td>\n",
       "      <td>171.949890</td>\n",
       "      <td>2360300</td>\n",
       "    </tr>\n",
       "    <tr>\n",
       "      <th>3</th>\n",
       "      <td>2012-05-03</td>\n",
       "      <td>208.270004</td>\n",
       "      <td>208.919998</td>\n",
       "      <td>206.550003</td>\n",
       "      <td>207.240005</td>\n",
       "      <td>171.272232</td>\n",
       "      <td>2826600</td>\n",
       "    </tr>\n",
       "    <tr>\n",
       "      <th>4</th>\n",
       "      <td>2012-05-04</td>\n",
       "      <td>206.470001</td>\n",
       "      <td>207.110001</td>\n",
       "      <td>204.399994</td>\n",
       "      <td>204.990005</td>\n",
       "      <td>169.412750</td>\n",
       "      <td>4023600</td>\n",
       "    </tr>\n",
       "  </tbody>\n",
       "</table>\n",
       "</div>"
      ],
      "text/plain": [
       "         Date        Open        High         Low       Close   Adj Close  \\\n",
       "0  2012-04-30  206.710007  207.960007  206.320007  207.080002  171.139999   \n",
       "1  2012-05-01  207.179993  208.929993  206.710007  208.000000  171.900360   \n",
       "2  2012-05-02  206.970001  208.270004  206.910004  208.059998  171.949890   \n",
       "3  2012-05-03  208.270004  208.919998  206.550003  207.240005  171.272232   \n",
       "4  2012-05-04  206.470001  207.110001  204.399994  204.990005  169.412750   \n",
       "\n",
       "    Volume  \n",
       "0  2773200  \n",
       "1  2715900  \n",
       "2  2360300  \n",
       "3  2826600  \n",
       "4  4023600  "
      ]
     },
     "execution_count": 3,
     "metadata": {},
     "output_type": "execute_result"
    }
   ],
   "source": [
    "dataset.head()"
   ]
  },
  {
   "cell_type": "code",
   "execution_count": 4,
   "metadata": {},
   "outputs": [
    {
     "name": "stdout",
     "output_type": "stream",
     "text": [
      "<class 'pandas.core.frame.DataFrame'>\n",
      "RangeIndex: 1509 entries, 0 to 1508\n",
      "Data columns (total 7 columns):\n",
      "Date         1509 non-null object\n",
      "Open         1509 non-null float64\n",
      "High         1509 non-null float64\n",
      "Low          1509 non-null float64\n",
      "Close        1509 non-null float64\n",
      "Adj Close    1509 non-null float64\n",
      "Volume       1509 non-null int64\n",
      "dtypes: float64(5), int64(1), object(1)\n",
      "memory usage: 82.6+ KB\n"
     ]
    }
   ],
   "source": [
    "dataset.info()"
   ]
  },
  {
   "cell_type": "markdown",
   "metadata": {},
   "source": [
    "### EDA"
   ]
  },
  {
   "cell_type": "code",
   "execution_count": 5,
   "metadata": {},
   "outputs": [
    {
     "data": {
      "image/png": "[encoded data removed]",
      "text/plain": [
       "<matplotlib.figure.Figure at 0x17fff8c5f60>"
      ]
     },
     "metadata": {},
     "output_type": "display_data"
    }
   ],
   "source": [
    "import matplotlib.dates as mdates\n",
    "plt.plot(dataset['Date'],dataset['Close'])\n",
    "plt.title('IBM Stock Performance',fontsize=17)\n",
    "plt.gca().xaxis.set_major_locator(mdates.YearLocator())\n",
    "plt.gca().xaxis.set_major_formatter(mdates.DateFormatter('%Y-%m'))\n",
    "plt.gcf().autofmt_xdate()\n",
    "plt.xlabel('Time',fontsize=15)\n",
    "plt.ylabel('Price in Dollar',fontsize=10)\n",
    "plt.rcParams[\"figure.figsize\"] = (20,15)\n",
    "plt.show()"
   ]
  },
  {
   "cell_type": "markdown",
   "metadata": {},
   "source": [
    "### Trainning the data"
   ]
  },
  {
   "cell_type": "code",
   "execution_count": 6,
   "metadata": {
    "collapsed": true
   },
   "outputs": [],
   "source": [
    "#last 100 rows will be tested\n",
    "dataset_train=dataset.iloc[:-100,]\n",
    "dataset_test=dataset.iloc[-100:,]"
   ]
  },
  {
   "cell_type": "code",
   "execution_count": 9,
   "metadata": {
    "collapsed": true
   },
   "outputs": [],
   "source": [
    "#transform data to array\n",
    "training_set=dataset_train['Close'].values.reshape(-1,1)"
   ]
  },
  {
   "cell_type": "code",
   "execution_count": 107,
   "metadata": {
    "collapsed": true
   },
   "outputs": [],
   "source": [
    "#Don't know if need this line\n",
    "# transform str to float, else, won't be able to run fit_transform\n",
    "from sklearn.preprocessing import LabelEncoder\n",
    "for column in dataset.columns:\n",
    "    if dataset[column].dtype == type(object):\n",
    "        le = LabelEncoder()\n",
    "        dataset[column] = le.fit_transform(dataset[column])"
   ]
  },
  {
   "cell_type": "code",
   "execution_count": 62,
   "metadata": {
    "collapsed": true
   },
   "outputs": [],
   "source": [
    "#Don't know if need this line\n",
    "from sklearn.model_selection import train_test_split\n",
    "X_train, X_test, y_train, y_test=train_test_split(X,y,test_size=0.2,random_state=0)"
   ]
  },
  {
   "cell_type": "code",
   "execution_count": null,
   "metadata": {
    "collapsed": true
   },
   "outputs": [],
   "source": []
  },
  {
   "cell_type": "code",
   "execution_count": 42,
   "metadata": {
    "collapsed": true
   },
   "outputs": [],
   "source": [
    "#looking at Close column\n",
    "#training_set=dataset['Close'].values.reshape(-1,1)\n"
   ]
  },
  {
   "cell_type": "code",
   "execution_count": 56,
   "metadata": {
    "collapsed": true
   },
   "outputs": [],
   "source": [
    "#training_set"
   ]
  },
  {
   "cell_type": "code",
   "execution_count": 10,
   "metadata": {},
   "outputs": [],
   "source": [
    "from sklearn.preprocessing import MinMaxScaler\n",
    "sc=MinMaxScaler(feature_range=(0,1))\n",
    "training_set_scaled=sc.fit_transform(training_set)\n"
   ]
  },
  {
   "cell_type": "markdown",
   "metadata": {},
   "source": [
    "creating a data structure with 60 time step and reshape it to 3 dimension to include the time step as the 3rd dimension. "
   ]
  },
  {
   "cell_type": "code",
   "execution_count": 11,
   "metadata": {
    "collapsed": true
   },
   "outputs": [],
   "source": [
    "X_train=[]\n",
    "y_train=[]\n",
    "for i in range (60,1207):\n",
    "    X_train.append(training_set_scaled[i-60:i,0])\n",
    "    y_train.append(training_set_scaled[i,0])\n",
    "X_train,y_train=np.array(X_train),np.array(y_train)"
   ]
  },
  {
   "cell_type": "code",
   "execution_count": 12,
   "metadata": {
    "collapsed": true
   },
   "outputs": [],
   "source": [
    "X_train=np.reshape(X_train,(X_train.shape[0],X_train.shape[1],1))"
   ]
  },
  {
   "cell_type": "markdown",
   "metadata": {},
   "source": [
    "### RNN"
   ]
  },
  {
   "cell_type": "code",
   "execution_count": 13,
   "metadata": {},
   "outputs": [
    {
     "name": "stderr",
     "output_type": "stream",
     "text": [
      "Using TensorFlow backend.\n"
     ]
    }
   ],
   "source": [
    "from keras.models import Sequential\n",
    "from keras.layers import Dense\n",
    "from keras.layers import LSTM\n",
    "from keras.layers import Dropout"
   ]
  },
  {
   "cell_type": "code",
   "execution_count": 14,
   "metadata": {
    "collapsed": true
   },
   "outputs": [],
   "source": [
    "regressor=Sequential()"
   ]
  },
  {
   "cell_type": "code",
   "execution_count": 15,
   "metadata": {
    "collapsed": true
   },
   "outputs": [],
   "source": [
    "regressor.add(LSTM(units=50,return_sequences= True,input_shape=(X_train.shape[1],1)))\n",
    "regressor.add(Dropout(0.2))"
   ]
  },
  {
   "cell_type": "code",
   "execution_count": 16,
   "metadata": {
    "collapsed": true
   },
   "outputs": [],
   "source": [
    "regressor.add(LSTM(units=50,return_sequences= True))\n",
    "regressor.add(Dropout(0.2))"
   ]
  },
  {
   "cell_type": "code",
   "execution_count": 17,
   "metadata": {
    "collapsed": true
   },
   "outputs": [],
   "source": [
    "regressor.add(LSTM(units=50,return_sequences= True))\n",
    "regressor.add(Dropout(0.2))"
   ]
  },
  {
   "cell_type": "code",
   "execution_count": 18,
   "metadata": {
    "collapsed": true
   },
   "outputs": [],
   "source": [
    "regressor.add(LSTM(units=50))\n",
    "regressor.add(Dropout(0.2))"
   ]
  },
  {
   "cell_type": "code",
   "execution_count": 19,
   "metadata": {
    "collapsed": true
   },
   "outputs": [],
   "source": [
    "regressor.add(Dense(units=1))"
   ]
  },
  {
   "cell_type": "code",
   "execution_count": 20,
   "metadata": {
    "collapsed": true
   },
   "outputs": [],
   "source": [
    "regressor.compile(optimizer = 'adam', loss='mean_squared_error')"
   ]
  },
  {
   "cell_type": "code",
   "execution_count": 21,
   "metadata": {
    "scrolled": true
   },
   "outputs": [
    {
     "name": "stdout",
     "output_type": "stream",
     "text": [
      "Epoch 1/100\n",
      "1147/1147 [==============================] - 11s 9ms/step - loss: 0.0564\n",
      "Epoch 2/100\n",
      "1147/1147 [==============================] - 7s 6ms/step - loss: 0.0105\n",
      "Epoch 3/100\n",
      "1147/1147 [==============================] - 7s 6ms/step - loss: 0.0088\n",
      "Epoch 4/100\n",
      "1147/1147 [==============================] - 7s 6ms/step - loss: 0.0083\n",
      "Epoch 5/100\n",
      "1147/1147 [==============================] - 7s 6ms/step - loss: 0.0076\n",
      "Epoch 6/100\n",
      "1147/1147 [==============================] - 6s 5ms/step - loss: 0.0069\n",
      "Epoch 7/100\n",
      "1147/1147 [==============================] - 7s 6ms/step - loss: 0.0067\n",
      "Epoch 8/100\n",
      "1147/1147 [==============================] - 7s 6ms/step - loss: 0.0070\n",
      "Epoch 9/100\n",
      "1147/1147 [==============================] - 7s 6ms/step - loss: 0.0062\n",
      "Epoch 10/100\n",
      "1147/1147 [==============================] - 7s 6ms/step - loss: 0.0058\n",
      "Epoch 11/100\n",
      "1147/1147 [==============================] - 7s 6ms/step - loss: 0.0059\n",
      "Epoch 12/100\n",
      "1147/1147 [==============================] - 6s 6ms/step - loss: 0.0053\n",
      "Epoch 13/100\n",
      "1147/1147 [==============================] - 6s 6ms/step - loss: 0.0053\n",
      "Epoch 14/100\n",
      "1147/1147 [==============================] - 7s 6ms/step - loss: 0.0056\n",
      "Epoch 15/100\n",
      "1147/1147 [==============================] - 6s 5ms/step - loss: 0.0052\n",
      "Epoch 16/100\n",
      "1147/1147 [==============================] - 7s 6ms/step - loss: 0.0056\n",
      "Epoch 17/100\n",
      "1147/1147 [==============================] - 7s 6ms/step - loss: 0.0052\n",
      "Epoch 18/100\n",
      "1147/1147 [==============================] - 7s 6ms/step - loss: 0.0050\n",
      "Epoch 19/100\n",
      "1147/1147 [==============================] - 7s 6ms/step - loss: 0.0048\n",
      "Epoch 20/100\n",
      "1147/1147 [==============================] - 6s 5ms/step - loss: 0.0049\n",
      "Epoch 21/100\n",
      "1147/1147 [==============================] - 6s 6ms/step - loss: 0.0048\n",
      "Epoch 22/100\n",
      "1147/1147 [==============================] - 6s 6ms/step - loss: 0.0042\n",
      "Epoch 23/100\n",
      "1147/1147 [==============================] - 7s 6ms/step - loss: 0.0043A: 2s -\n",
      "Epoch 24/100\n",
      "1147/1147 [==============================] - 6s 6ms/step - loss: 0.0048\n",
      "Epoch 25/100\n",
      "1147/1147 [==============================] - 6s 5ms/step - loss: 0.0042\n",
      "Epoch 26/100\n",
      "1147/1147 [==============================] - 7s 6ms/step - loss: 0.0039\n",
      "Epoch 27/100\n",
      "1147/1147 [==============================] - 6s 5ms/step - loss: 0.0039\n",
      "Epoch 28/100\n",
      "1147/1147 [==============================] - 7s 6ms/step - loss: 0.0042\n",
      "Epoch 29/100\n",
      "1147/1147 [==============================] - 6s 5ms/step - loss: 0.0039\n",
      "Epoch 30/100\n",
      "1147/1147 [==============================] - 7s 6ms/step - loss: 0.0038\n",
      "Epoch 31/100\n",
      "1147/1147 [==============================] - 7s 6ms/step - loss: 0.0039\n",
      "Epoch 32/100\n",
      "1147/1147 [==============================] - 6s 6ms/step - loss: 0.0039\n",
      "Epoch 33/100\n",
      "1147/1147 [==============================] - 7s 6ms/step - loss: 0.0036\n",
      "Epoch 34/100\n",
      "1147/1147 [==============================] - 7s 6ms/step - loss: 0.0038\n",
      "Epoch 35/100\n",
      "1147/1147 [==============================] - 7s 6ms/step - loss: 0.0037\n",
      "Epoch 36/100\n",
      "1147/1147 [==============================] - 7s 6ms/step - loss: 0.0035\n",
      "Epoch 37/100\n",
      "1147/1147 [==============================] - 6s 5ms/step - loss: 0.0040\n",
      "Epoch 38/100\n",
      "1147/1147 [==============================] - 7s 6ms/step - loss: 0.0037\n",
      "Epoch 39/100\n",
      "1147/1147 [==============================] - 6s 5ms/step - loss: 0.0037\n",
      "Epoch 40/100\n",
      "1147/1147 [==============================] - 6s 5ms/step - loss: 0.0032\n",
      "Epoch 41/100\n",
      "1147/1147 [==============================] - 6s 6ms/step - loss: 0.0032\n",
      "Epoch 42/100\n",
      "1147/1147 [==============================] - 6s 5ms/step - loss: 0.0038\n",
      "Epoch 43/100\n",
      "1147/1147 [==============================] - 6s 5ms/step - loss: 0.0034\n",
      "Epoch 44/100\n",
      "1147/1147 [==============================] - 6s 5ms/step - loss: 0.0032\n",
      "Epoch 45/100\n",
      "1147/1147 [==============================] - 6s 5ms/step - loss: 0.0031\n",
      "Epoch 46/100\n",
      "1147/1147 [==============================] - 8s 7ms/step - loss: 0.0030\n",
      "Epoch 47/100\n",
      "1147/1147 [==============================] - 6s 6ms/step - loss: 0.0028\n",
      "Epoch 48/100\n",
      "1147/1147 [==============================] - 8s 7ms/step - loss: 0.0028\n",
      "Epoch 49/100\n",
      "1147/1147 [==============================] - 6s 5ms/step - loss: 0.0028\n",
      "Epoch 50/100\n",
      "1147/1147 [==============================] - 7s 6ms/step - loss: 0.0029\n",
      "Epoch 51/100\n",
      "1147/1147 [==============================] - 6s 5ms/step - loss: 0.0026\n",
      "Epoch 52/100\n",
      "1147/1147 [==============================] - 6s 5ms/step - loss: 0.0026\n",
      "Epoch 53/100\n",
      "1147/1147 [==============================] - 6s 6ms/step - loss: 0.0027\n",
      "Epoch 54/100\n",
      "1147/1147 [==============================] - 6s 5ms/step - loss: 0.0026\n",
      "Epoch 55/100\n",
      "1147/1147 [==============================] - 6s 6ms/step - loss: 0.0028\n",
      "Epoch 56/100\n",
      "1147/1147 [==============================] - 6s 5ms/step - loss: 0.0026\n",
      "Epoch 57/100\n",
      "1147/1147 [==============================] - 6s 5ms/step - loss: 0.0029\n",
      "Epoch 58/100\n",
      "1147/1147 [==============================] - 7s 6ms/step - loss: 0.0026\n",
      "Epoch 59/100\n",
      "1147/1147 [==============================] - 6s 5ms/step - loss: 0.0027\n",
      "Epoch 60/100\n",
      "1147/1147 [==============================] - 6s 6ms/step - loss: 0.0027A: 1s - loss: \n",
      "Epoch 61/100\n",
      "1147/1147 [==============================] - 6s 6ms/step - loss: 0.0026\n",
      "Epoch 62/100\n",
      "1147/1147 [==============================] - 6s 5ms/step - loss: 0.0026\n",
      "Epoch 63/100\n",
      "1147/1147 [==============================] - 6s 6ms/step - loss: 0.0024\n",
      "Epoch 64/100\n",
      "1147/1147 [==============================] - 6s 5ms/step - loss: 0.0025\n",
      "Epoch 65/100\n",
      "1147/1147 [==============================] - 6s 5ms/step - loss: 0.0025\n",
      "Epoch 66/100\n",
      "1147/1147 [==============================] - 6s 6ms/step - loss: 0.0025\n",
      "Epoch 67/100\n",
      "1147/1147 [==============================] - 6s 5ms/step - loss: 0.0023\n",
      "Epoch 68/100\n",
      "1147/1147 [==============================] - 6s 6ms/step - loss: 0.0024\n",
      "Epoch 69/100\n",
      "1147/1147 [==============================] - 6s 5ms/step - loss: 0.0021\n",
      "Epoch 70/100\n",
      "1147/1147 [==============================] - 6s 5ms/step - loss: 0.0024\n",
      "Epoch 71/100\n",
      "1147/1147 [==============================] - 6s 6ms/step - loss: 0.0021\n",
      "Epoch 72/100\n",
      "1147/1147 [==============================] - 6s 5ms/step - loss: 0.0021\n",
      "Epoch 73/100\n",
      "1147/1147 [==============================] - 6s 6ms/step - loss: 0.0021\n",
      "Epoch 74/100\n",
      "1147/1147 [==============================] - 6s 5ms/step - loss: 0.0021\n",
      "Epoch 75/100\n",
      "1147/1147 [==============================] - 6s 5ms/step - loss: 0.0020\n",
      "Epoch 76/100\n",
      "1147/1147 [==============================] - 6s 6ms/step - loss: 0.0022\n",
      "Epoch 77/100\n",
      "1147/1147 [==============================] - 6s 5ms/step - loss: 0.0022\n",
      "Epoch 78/100\n",
      "1147/1147 [==============================] - 6s 6ms/step - loss: 0.0021\n",
      "Epoch 79/100\n",
      "1147/1147 [==============================] - 6s 5ms/step - loss: 0.0020\n",
      "Epoch 80/100\n",
      "1147/1147 [==============================] - 6s 5ms/step - loss: 0.0020\n",
      "Epoch 81/100\n",
      "1147/1147 [==============================] - 6s 6ms/step - loss: 0.0022\n",
      "Epoch 82/100\n",
      "1147/1147 [==============================] - 6s 5ms/step - loss: 0.0021\n",
      "Epoch 83/100\n",
      "1147/1147 [==============================] - 6s 5ms/step - loss: 0.0020\n",
      "Epoch 84/100\n",
      "1147/1147 [==============================] - 6s 5ms/step - loss: 0.0020\n",
      "Epoch 85/100\n",
      "1147/1147 [==============================] - 6s 5ms/step - loss: 0.0018\n",
      "Epoch 86/100\n",
      "1147/1147 [==============================] - 6s 6ms/step - loss: 0.0018\n",
      "Epoch 87/100\n",
      "1147/1147 [==============================] - 6s 5ms/step - loss: 0.0017\n",
      "Epoch 88/100\n",
      "1147/1147 [==============================] - 6s 5ms/step - loss: 0.0018\n",
      "Epoch 89/100\n",
      "1147/1147 [==============================] - 7s 6ms/step - loss: 0.0017\n",
      "Epoch 90/100\n",
      "1147/1147 [==============================] - 6s 5ms/step - loss: 0.0018\n",
      "Epoch 91/100\n",
      "1147/1147 [==============================] - 6s 6ms/step - loss: 0.0016\n",
      "Epoch 92/100\n",
      "1147/1147 [==============================] - 6s 5ms/step - loss: 0.0015\n",
      "Epoch 93/100\n",
      "1147/1147 [==============================] - 6s 5ms/step - loss: 0.0017\n",
      "Epoch 94/100\n",
      "1147/1147 [==============================] - 6s 6ms/step - loss: 0.0016\n",
      "Epoch 95/100\n",
      "1147/1147 [==============================] - 6s 5ms/step - loss: 0.0016\n",
      "Epoch 96/100\n",
      "1147/1147 [==============================] - 6s 6ms/step - loss: 0.0019\n",
      "Epoch 97/100\n"
     ]
    },
    {
     "name": "stdout",
     "output_type": "stream",
     "text": [
      "1147/1147 [==============================] - 6s 5ms/step - loss: 0.0016\n",
      "Epoch 98/100\n",
      "1147/1147 [==============================] - 6s 5ms/step - loss: 0.0016\n",
      "Epoch 99/100\n",
      "1147/1147 [==============================] - 6s 5ms/step - loss: 0.0015\n",
      "Epoch 100/100\n",
      "1147/1147 [==============================] - 6s 5ms/step - loss: 0.0018\n"
     ]
    },
    {
     "data": {
      "text/plain": [
       "<keras.callbacks.History at 0x17f87063ac8>"
      ]
     },
     "execution_count": 21,
     "metadata": {},
     "output_type": "execute_result"
    }
   ],
   "source": [
    "regressor.fit(X_train,y_train, epochs=100,batch_size=32)"
   ]
  },
  {
   "cell_type": "code",
   "execution_count": 49,
   "metadata": {
    "collapsed": true
   },
   "outputs": [],
   "source": [
    "Real_stock=dataset.iloc[-20:,]\n",
    "real_stock_price=Real_stock['Close'].values"
   ]
  },
  {
   "cell_type": "code",
   "execution_count": 51,
   "metadata": {
    "collapsed": true
   },
   "outputs": [],
   "source": [
    "dataset_total=pd.concat((dataset_train['Close'],dataset_test['Close']),axis=0)\n",
    "inputs = dataset_total[len(dataset_total)-len(dataset_test)-60:].values\n",
    "inputs = inputs.reshape(-1,1)\n",
    "inputs = sc.transform(inputs)\n",
    "X_test = []\n",
    "for i in range(60,80):\n",
    "    X_test.append(inputs[i-60:i,0])"
   ]
  },
  {
   "cell_type": "code",
   "execution_count": 52,
   "metadata": {},
   "outputs": [],
   "source": [
    "X_test=np.array(X_test)\n",
    "X_test=np.reshape(X_test,(X_test.shape[0],X_test.shape[1],1))\n",
    "predicted_stock_price=regressor.predict(X_test)\n",
    "predicted_stock_price=sc.inverse_transform(predicted_stock_price)"
   ]
  },
  {
   "cell_type": "code",
   "execution_count": 54,
   "metadata": {},
   "outputs": [
    {
     "data": {
      "image/png": "[encoded data removed]",
      "text/plain": [
       "<matplotlib.figure.Figure at 0x17f8a681160>"
      ]
     },
     "metadata": {},
     "output_type": "display_data"
    }
   ],
   "source": [
    "plt.plot(real_stock_price,color='red',label='Real IBM Closing Stock Price')\n",
    "plt.plot(predicted_stock_price,color='blue',label='Predicted Closing Stock Price')\n",
    "plt.title('IBM Stock Price Prediction')\n",
    "plt.xlabel('Time')\n",
    "plt.ylabel('IBM Stock Price')\n",
    "plt.legend()\n",
    "plt.show()"
   ]
  },
  {
   "cell_type": "code",
   "execution_count": null,
   "metadata": {
    "collapsed": true
   },
   "outputs": [],
   "source": []
  }
 ],
 "metadata": {
  "kernelspec": {
   "display_name": "Python 3",
   "language": "python",
   "name": "python3"
  },
  "language_info": {
   "codemirror_mode": {
    "name": "ipython",
    "version": 3
   },
   "file_extension": ".py",
   "mimetype": "text/x-python",
   "name": "python",
   "nbconvert_exporter": "python",
   "pygments_lexer": "ipython3",
   "version": "3.6.3"
  }
 },
 "nbformat": 4,
 "nbformat_minor": 2
}
