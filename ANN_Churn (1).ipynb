{
 "cells": [
  {
   "cell_type": "code",
   "execution_count": 1,
   "metadata": {
    "collapsed": true
   },
   "outputs": [],
   "source": [
    "import numpy as np\n",
    "import matplotlib.pyplot as plt\n",
    "import pandas as pd"
   ]
  },
  {
   "cell_type": "code",
   "execution_count": 5,
   "metadata": {
    "collapsed": true
   },
   "outputs": [],
   "source": [
    "dataset=pd.read_csv('Churn_Modelling.csv')\n",
    "X=dataset.iloc[:,3:13].values\n",
    "y=dataset.iloc[:,13].values"
   ]
  },
  {
   "cell_type": "markdown",
   "metadata": {},
   "source": [
    "creating 2 encoder for each variables since each variables have multiple layers."
   ]
  },
  {
   "cell_type": "code",
   "execution_count": 8,
   "metadata": {
    "collapsed": true
   },
   "outputs": [],
   "source": [
    "from sklearn.preprocessing import LabelEncoder, OneHotEncoder\n",
    "labelencoder_X_1=LabelEncoder()\n",
    "X[:,1]=labelencoder_X_1.fit_transform(X[:,1])\n",
    "labelencoder_X_2=LabelEncoder()\n",
    "X[:,2]=labelencoder_X_1.fit_transform(X[:,2])\n",
    "onehotencoder=OneHotEncoder(categorical_features=[1])\n",
    "X=onehotencoder.fit_transform(X).toarray()\n",
    "X=X[:,1:]\n",
    "\n",
    "#Record note: can use this code as a template, translate to list"
   ]
  },
  {
   "cell_type": "code",
   "execution_count": 10,
   "metadata": {
    "collapsed": true
   },
   "outputs": [],
   "source": [
    "from sklearn.model_selection import train_test_split\n",
    "X_train, X_test, y_train, y_test=train_test_split(X,y,test_size=0.2,random_state=0)"
   ]
  },
  {
   "cell_type": "code",
   "execution_count": 11,
   "metadata": {
    "collapsed": true
   },
   "outputs": [],
   "source": [
    "from sklearn.preprocessing import StandardScaler\n",
    "sc=StandardScaler()\n",
    "X_train=sc.fit_transform(X_train)\n",
    "X_test=sc.transform(X_test)"
   ]
  },
  {
   "cell_type": "code",
   "execution_count": 2,
   "metadata": {},
   "outputs": [
    {
     "name": "stderr",
     "output_type": "stream",
     "text": [
      "Using TensorFlow backend.\n"
     ]
    }
   ],
   "source": [
    "import keras\n",
    "from keras.models import Sequential\n",
    "from keras.layers import Dense"
   ]
  },
  {
   "cell_type": "code",
   "execution_count": 5,
   "metadata": {},
   "outputs": [
    {
     "data": {
      "text/plain": [
       "'2.1.5'"
      ]
     },
     "execution_count": 5,
     "metadata": {},
     "output_type": "execute_result"
    }
   ],
   "source": [
    "#keras is an API on top of tensorflow. Everytime running keras, it will ask to run tensorflow. \n",
    "#The following syntax show the tensorflow version\n",
    "keras.__version__"
   ]
  },
  {
   "cell_type": "markdown",
   "metadata": {},
   "source": [
    "Activation Function\n",
    "the number of input = output \n",
    "~ the number of variables?!\n"
   ]
  },
  {
   "cell_type": "code",
   "execution_count": 19,
   "metadata": {
    "collapsed": true
   },
   "outputs": [],
   "source": [
    "classifier=Sequential()"
   ]
  },
  {
   "cell_type": "code",
   "execution_count": 20,
   "metadata": {
    "collapsed": true
   },
   "outputs": [],
   "source": [
    "classifier.add(Dense(units=6,kernel_initializer='uniform',activation='relu',input_dim=11))"
   ]
  },
  {
   "cell_type": "code",
   "execution_count": 21,
   "metadata": {
    "collapsed": true
   },
   "outputs": [],
   "source": [
    "classifier.add(Dense(units=6,kernel_initializer='uniform',activation='relu'))"
   ]
  },
  {
   "cell_type": "code",
   "execution_count": 24,
   "metadata": {
    "collapsed": true
   },
   "outputs": [],
   "source": [
    "classifier.add(Dense(units=1,kernel_initializer='uniform',activation='sigmoid'))"
   ]
  },
  {
   "cell_type": "markdown",
   "metadata": {},
   "source": [
    "Record: comment for line 13"
   ]
  },
  {
   "cell_type": "code",
   "execution_count": 25,
   "metadata": {
    "collapsed": true
   },
   "outputs": [],
   "source": [
    "classifier.compile(optimizer='adam',loss='binary_crossentropy',metrics=['accuracy'])"
   ]
  },
  {
   "cell_type": "markdown",
   "metadata": {},
   "source": [
    "first step of running the model before fine tuning it (Fine tune will slow down the jupyter, pycharm could speed up the process, CPU could help speed up the model)"
   ]
  },
  {
   "cell_type": "code",
   "execution_count": 26,
   "metadata": {},
   "outputs": [
    {
     "name": "stdout",
     "output_type": "stream",
     "text": [
      "Epoch 1/100\n",
      "8000/8000 [==============================] - 2s 267us/step - loss: 0.4866 - acc: 0.7956\n",
      "Epoch 2/100\n",
      "8000/8000 [==============================] - 1s 146us/step - loss: 0.4293 - acc: 0.7960\n",
      "Epoch 3/100\n",
      "8000/8000 [==============================] - 1s 141us/step - loss: 0.4251 - acc: 0.7960\n",
      "Epoch 4/100\n",
      "8000/8000 [==============================] - 1s 143us/step - loss: 0.4207 - acc: 0.8086\n",
      "Epoch 5/100\n",
      "8000/8000 [==============================] - 1s 146us/step - loss: 0.4176 - acc: 0.8222\n",
      "Epoch 6/100\n",
      "8000/8000 [==============================] - 2s 211us/step - loss: 0.4158 - acc: 0.8260\n",
      "Epoch 7/100\n",
      "8000/8000 [==============================] - 1s 185us/step - loss: 0.4142 - acc: 0.8284\n",
      "Epoch 8/100\n",
      "8000/8000 [==============================] - 1s 164us/step - loss: 0.4125 - acc: 0.8322\n",
      "Epoch 9/100\n",
      "8000/8000 [==============================] - 1s 135us/step - loss: 0.4114 - acc: 0.8317\n",
      "Epoch 10/100\n",
      "8000/8000 [==============================] - 1s 141us/step - loss: 0.4107 - acc: 0.8329\n",
      "Epoch 11/100\n",
      "8000/8000 [==============================] - 1s 148us/step - loss: 0.4092 - acc: 0.8337\n",
      "Epoch 12/100\n",
      "8000/8000 [==============================] - 1s 146us/step - loss: 0.4091 - acc: 0.8337\n",
      "Epoch 13/100\n",
      "8000/8000 [==============================] - 1s 168us/step - loss: 0.4077 - acc: 0.8344\n",
      "Epoch 14/100\n",
      "8000/8000 [==============================] - 2s 195us/step - loss: 0.4075 - acc: 0.8345\n",
      "Epoch 15/100\n",
      "8000/8000 [==============================] - 1s 140us/step - loss: 0.4066 - acc: 0.8347\n",
      "Epoch 16/100\n",
      "8000/8000 [==============================] - 1s 143us/step - loss: 0.4060 - acc: 0.8336\n",
      "Epoch 17/100\n",
      "8000/8000 [==============================] - 2s 203us/step - loss: 0.4059 - acc: 0.8349\n",
      "Epoch 18/100\n",
      "8000/8000 [==============================] - 2s 200us/step - loss: 0.4051 - acc: 0.8355\n",
      "Epoch 19/100\n",
      "8000/8000 [==============================] - 2s 189us/step - loss: 0.4052 - acc: 0.8355\n",
      "Epoch 20/100\n",
      "8000/8000 [==============================] - 1s 160us/step - loss: 0.4041 - acc: 0.8334\n",
      "Epoch 21/100\n",
      "8000/8000 [==============================] - 1s 148us/step - loss: 0.4041 - acc: 0.8340\n",
      "Epoch 22/100\n",
      "8000/8000 [==============================] - 1s 144us/step - loss: 0.4038 - acc: 0.8357\n",
      "Epoch 23/100\n",
      "8000/8000 [==============================] - 1s 145us/step - loss: 0.4039 - acc: 0.8347\n",
      "Epoch 24/100\n",
      "8000/8000 [==============================] - 1s 149us/step - loss: 0.4036 - acc: 0.8336\n",
      "Epoch 25/100\n",
      "8000/8000 [==============================] - 1s 143us/step - loss: 0.4031 - acc: 0.8346\n",
      "Epoch 26/100\n",
      "8000/8000 [==============================] - 1s 151us/step - loss: 0.4031 - acc: 0.8345\n",
      "Epoch 27/100\n",
      "8000/8000 [==============================] - 2s 218us/step - loss: 0.4031 - acc: 0.8346\n",
      "Epoch 28/100\n",
      "8000/8000 [==============================] - 2s 217us/step - loss: 0.4030 - acc: 0.8345\n",
      "Epoch 29/100\n",
      "8000/8000 [==============================] - 1s 135us/step - loss: 0.4024 - acc: 0.8339\n",
      "Epoch 30/100\n",
      "8000/8000 [==============================] - 1s 145us/step - loss: 0.4022 - acc: 0.8340\n",
      "Epoch 31/100\n",
      "8000/8000 [==============================] - 1s 160us/step - loss: 0.4024 - acc: 0.8344\n",
      "Epoch 32/100\n",
      "8000/8000 [==============================] - 1s 179us/step - loss: 0.4027 - acc: 0.8354\n",
      "Epoch 33/100\n",
      "8000/8000 [==============================] - 1s 169us/step - loss: 0.4022 - acc: 0.8347\n",
      "Epoch 34/100\n",
      "8000/8000 [==============================] - 1s 145us/step - loss: 0.4018 - acc: 0.8351\n",
      "Epoch 35/100\n",
      "8000/8000 [==============================] - 1s 155us/step - loss: 0.4019 - acc: 0.8349\n",
      "Epoch 36/100\n",
      "8000/8000 [==============================] - 1s 152us/step - loss: 0.4017 - acc: 0.8355\n",
      "Epoch 37/100\n",
      "8000/8000 [==============================] - 1s 151us/step - loss: 0.4018 - acc: 0.8345\n",
      "Epoch 38/100\n",
      "8000/8000 [==============================] - 1s 185us/step - loss: 0.4022 - acc: 0.8352\n",
      "Epoch 39/100\n",
      "8000/8000 [==============================] - 1s 165us/step - loss: 0.4016 - acc: 0.8351\n",
      "Epoch 40/100\n",
      "8000/8000 [==============================] - 1s 156us/step - loss: 0.4014 - acc: 0.8350\n",
      "Epoch 41/100\n",
      "8000/8000 [==============================] - 1s 153us/step - loss: 0.4015 - acc: 0.8351\n",
      "Epoch 42/100\n",
      "8000/8000 [==============================] - 1s 155us/step - loss: 0.4018 - acc: 0.8352\n",
      "Epoch 43/100\n",
      "8000/8000 [==============================] - 1s 151us/step - loss: 0.4012 - acc: 0.8352\n",
      "Epoch 44/100\n",
      "8000/8000 [==============================] - 2s 195us/step - loss: 0.4015 - acc: 0.8346\n",
      "Epoch 45/100\n",
      "8000/8000 [==============================] - 1s 184us/step - loss: 0.4015 - acc: 0.8344\n",
      "Epoch 46/100\n",
      "8000/8000 [==============================] - 1s 156us/step - loss: 0.4012 - acc: 0.8339\n",
      "Epoch 47/100\n",
      "8000/8000 [==============================] - 1s 165us/step - loss: 0.4012 - acc: 0.8342\n",
      "Epoch 48/100\n",
      "8000/8000 [==============================] - 1s 157us/step - loss: 0.4017 - acc: 0.8349\n",
      "Epoch 49/100\n",
      "8000/8000 [==============================] - 1s 155us/step - loss: 0.4011 - acc: 0.8362\n",
      "Epoch 50/100\n",
      "8000/8000 [==============================] - 1s 154us/step - loss: 0.4016 - acc: 0.8336\n",
      "Epoch 51/100\n",
      "8000/8000 [==============================] - 1s 174us/step - loss: 0.4010 - acc: 0.8361\n",
      "Epoch 52/100\n",
      "8000/8000 [==============================] - 1s 158us/step - loss: 0.4012 - acc: 0.8354\n",
      "Epoch 53/100\n",
      "8000/8000 [==============================] - 1s 175us/step - loss: 0.4012 - acc: 0.8341\n",
      "Epoch 54/100\n",
      "8000/8000 [==============================] - 1s 171us/step - loss: 0.4012 - acc: 0.8344\n",
      "Epoch 55/100\n",
      "8000/8000 [==============================] - 1s 161us/step - loss: 0.4014 - acc: 0.8350\n",
      "Epoch 56/100\n",
      "8000/8000 [==============================] - 2s 211us/step - loss: 0.4008 - acc: 0.8365 0s - loss: 0.3924 - a\n",
      "Epoch 57/100\n",
      "8000/8000 [==============================] - 2s 214us/step - loss: 0.4007 - acc: 0.8352\n",
      "Epoch 58/100\n",
      "8000/8000 [==============================] - 1s 183us/step - loss: 0.4007 - acc: 0.8340\n",
      "Epoch 59/100\n",
      "8000/8000 [==============================] - 1s 162us/step - loss: 0.4012 - acc: 0.8351\n",
      "Epoch 60/100\n",
      "8000/8000 [==============================] - 1s 146us/step - loss: 0.4009 - acc: 0.8344\n",
      "Epoch 61/100\n",
      "8000/8000 [==============================] - 1s 149us/step - loss: 0.4004 - acc: 0.8352\n",
      "Epoch 62/100\n",
      "8000/8000 [==============================] - 1s 156us/step - loss: 0.4006 - acc: 0.8357\n",
      "Epoch 63/100\n",
      "8000/8000 [==============================] - 1s 159us/step - loss: 0.4011 - acc: 0.8339\n",
      "Epoch 64/100\n",
      "8000/8000 [==============================] - 1s 153us/step - loss: 0.4009 - acc: 0.8361\n",
      "Epoch 65/100\n",
      "8000/8000 [==============================] - 1s 157us/step - loss: 0.4011 - acc: 0.8330\n",
      "Epoch 66/100\n",
      "8000/8000 [==============================] - 1s 158us/step - loss: 0.4009 - acc: 0.8350\n",
      "Epoch 67/100\n",
      "8000/8000 [==============================] - 1s 159us/step - loss: 0.4006 - acc: 0.8356\n",
      "Epoch 68/100\n",
      "8000/8000 [==============================] - 2s 205us/step - loss: 0.4011 - acc: 0.8341\n",
      "Epoch 69/100\n",
      "8000/8000 [==============================] - 1s 185us/step - loss: 0.4010 - acc: 0.8341\n",
      "Epoch 70/100\n",
      "8000/8000 [==============================] - 1s 155us/step - loss: 0.4008 - acc: 0.8341\n",
      "Epoch 71/100\n",
      "8000/8000 [==============================] - 1s 149us/step - loss: 0.4002 - acc: 0.8329\n",
      "Epoch 72/100\n",
      "8000/8000 [==============================] - 1s 165us/step - loss: 0.4007 - acc: 0.8354\n",
      "Epoch 73/100\n",
      "8000/8000 [==============================] - 1s 166us/step - loss: 0.4007 - acc: 0.8351\n",
      "Epoch 74/100\n",
      "8000/8000 [==============================] - 1s 161us/step - loss: 0.4007 - acc: 0.8366\n",
      "Epoch 75/100\n",
      "8000/8000 [==============================] - 1s 157us/step - loss: 0.4006 - acc: 0.8360\n",
      "Epoch 76/100\n",
      "8000/8000 [==============================] - 1s 150us/step - loss: 0.4007 - acc: 0.8347\n",
      "Epoch 77/100\n",
      "8000/8000 [==============================] - 1s 156us/step - loss: 0.4004 - acc: 0.8335\n",
      "Epoch 78/100\n",
      "8000/8000 [==============================] - 1s 153us/step - loss: 0.4006 - acc: 0.8341\n",
      "Epoch 79/100\n",
      "8000/8000 [==============================] - 1s 152us/step - loss: 0.4006 - acc: 0.8349\n",
      "Epoch 80/100\n",
      "8000/8000 [==============================] - 1s 186us/step - loss: 0.4004 - acc: 0.8345\n",
      "Epoch 81/100\n",
      "8000/8000 [==============================] - 1s 173us/step - loss: 0.4004 - acc: 0.8355\n"
     ]
    },
    {
     "name": "stdout",
     "output_type": "stream",
     "text": [
      "Epoch 82/100\n",
      "8000/8000 [==============================] - 1s 143us/step - loss: 0.4007 - acc: 0.8342\n",
      "Epoch 83/100\n",
      "8000/8000 [==============================] - 1s 130us/step - loss: 0.4008 - acc: 0.8351\n",
      "Epoch 84/100\n",
      "8000/8000 [==============================] - 1s 139us/step - loss: 0.4001 - acc: 0.8349\n",
      "Epoch 85/100\n",
      "8000/8000 [==============================] - 1s 140us/step - loss: 0.4006 - acc: 0.8356\n",
      "Epoch 86/100\n",
      "8000/8000 [==============================] - 1s 171us/step - loss: 0.4004 - acc: 0.8359\n",
      "Epoch 87/100\n",
      "8000/8000 [==============================] - 1s 152us/step - loss: 0.4006 - acc: 0.8349\n",
      "Epoch 88/100\n",
      "8000/8000 [==============================] - 1s 150us/step - loss: 0.4002 - acc: 0.8364\n",
      "Epoch 89/100\n",
      "8000/8000 [==============================] - 1s 133us/step - loss: 0.4007 - acc: 0.8351\n",
      "Epoch 90/100\n",
      "8000/8000 [==============================] - 1s 140us/step - loss: 0.4004 - acc: 0.8352\n",
      "Epoch 91/100\n",
      "8000/8000 [==============================] - 1s 144us/step - loss: 0.4007 - acc: 0.8345\n",
      "Epoch 92/100\n",
      "8000/8000 [==============================] - 1s 141us/step - loss: 0.4000 - acc: 0.8356\n",
      "Epoch 93/100\n",
      "8000/8000 [==============================] - 1s 165us/step - loss: 0.4003 - acc: 0.8355\n",
      "Epoch 94/100\n",
      "8000/8000 [==============================] - 1s 169us/step - loss: 0.4004 - acc: 0.8351\n",
      "Epoch 95/100\n",
      "8000/8000 [==============================] - 1s 167us/step - loss: 0.4004 - acc: 0.8362\n",
      "Epoch 96/100\n",
      "8000/8000 [==============================] - 1s 139us/step - loss: 0.4005 - acc: 0.8332\n",
      "Epoch 97/100\n",
      "8000/8000 [==============================] - 1s 149us/step - loss: 0.4004 - acc: 0.8344\n",
      "Epoch 98/100\n",
      "8000/8000 [==============================] - 1s 141us/step - loss: 0.4003 - acc: 0.8366\n",
      "Epoch 99/100\n",
      "8000/8000 [==============================] - 1s 138us/step - loss: 0.4004 - acc: 0.8342\n",
      "Epoch 100/100\n",
      "8000/8000 [==============================] - 1s 149us/step - loss: 0.4005 - acc: 0.8351\n"
     ]
    },
    {
     "data": {
      "text/plain": [
       "<keras.callbacks.History at 0x19f24a77358>"
      ]
     },
     "execution_count": 26,
     "metadata": {},
     "output_type": "execute_result"
    }
   ],
   "source": [
    "classifier.fit(X_train,y_train, batch_size=10,epochs=100)"
   ]
  },
  {
   "cell_type": "code",
   "execution_count": 27,
   "metadata": {
    "collapsed": true
   },
   "outputs": [],
   "source": [
    "y_pred=classifier.predict(X_test)\n",
    "y_pred=(y_pred>0.5)"
   ]
  },
  {
   "cell_type": "code",
   "execution_count": 28,
   "metadata": {},
   "outputs": [
    {
     "name": "stdout",
     "output_type": "stream",
     "text": [
      "[[1544   51]\n",
      " [ 261  144]]\n"
     ]
    }
   ],
   "source": [
    "from sklearn.metrics import confusion_matrix\n",
    "cm=confusion_matrix(y_test,y_pred)\n",
    "print(cm)"
   ]
  },
  {
   "cell_type": "markdown",
   "metadata": {},
   "source": [
    "Check the prediction"
   ]
  },
  {
   "cell_type": "code",
   "execution_count": 30,
   "metadata": {
    "collapsed": true
   },
   "outputs": [],
   "source": [
    "new_prediction=classifier.predict(sc.transform(np.array([[0.0,0,600,1,40,3,60000,2,1,1,5000]])))\n",
    "new_prediction=(new_prediction>0.5)"
   ]
  },
  {
   "cell_type": "code",
   "execution_count": 31,
   "metadata": {},
   "outputs": [
    {
     "name": "stdout",
     "output_type": "stream",
     "text": [
      "[[False]]\n"
     ]
    }
   ],
   "source": [
    "print(new_prediction)"
   ]
  },
  {
   "cell_type": "code",
   "execution_count": 34,
   "metadata": {
    "collapsed": true
   },
   "outputs": [],
   "source": [
    "from keras.wrappers.scikit_learn import KerasClassifier\n",
    "from sklearn.model_selection import cross_val_score\n",
    "from keras.models import Sequential\n",
    "from keras.layers import Dense"
   ]
  },
  {
   "cell_type": "markdown",
   "metadata": {},
   "source": [
    "Cross validation to evaluate the model accuracy"
   ]
  },
  {
   "cell_type": "code",
   "execution_count": 35,
   "metadata": {
    "collapsed": true
   },
   "outputs": [],
   "source": [
    "def build_classifier():\n",
    "    classifier=Sequential()\n",
    "    classifier.add(Dense(units=6,kernel_initializer='uniform',activation='relu',input_dim=11))\n",
    "    classifier.add(Dense(units=6,kernel_initializer='uniform',activation='relu'))\n",
    "    classifier.add(Dense(units=1,kernel_initializer='uniform',activation='sigmoid'))\n",
    "    classifier.compile(optimizer='adam',loss='binary_crossentropy',metrics=['accuracy'])\n",
    "    return classifier"
   ]
  },
  {
   "cell_type": "code",
   "execution_count": null,
   "metadata": {
    "collapsed": true
   },
   "outputs": [],
   "source": [
    "classifier=KerasClassifier(build_fn=build_classifier,batch_size=10,epochs=100)\n",
    "accuracies=cross_val_score(estimator=classifier,X=X_train,y=y_train,cv=10,n_jobs=-1)"
   ]
  },
  {
   "cell_type": "code",
   "execution_count": null,
   "metadata": {
    "collapsed": true
   },
   "outputs": [],
   "source": [
    "For fine tune, we will adjust batch_size, ..."
   ]
  },
  {
   "cell_type": "code",
   "execution_count": null,
   "metadata": {
    "collapsed": true
   },
   "outputs": [],
   "source": [
    "Mean=accuracies.mean()\n",
    "StandardDeviation=accuracies.std()"
   ]
  }
 ],
 "metadata": {
  "kernelspec": {
   "display_name": "Python 3",
   "language": "python",
   "name": "python3"
  },
  "language_info": {
   "codemirror_mode": {
    "name": "ipython",
    "version": 3
   },
   "file_extension": ".py",
   "mimetype": "text/x-python",
   "name": "python",
   "nbconvert_exporter": "python",
   "pygments_lexer": "ipython3",
   "version": "3.6.3"
  }
 },
 "nbformat": 4,
 "nbformat_minor": 2
}
